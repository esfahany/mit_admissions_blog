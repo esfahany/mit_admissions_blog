{
 "cells": [
  {
   "cell_type": "markdown",
   "metadata": {},
   "source": [
    "# dormspam-the-game (Part 1)\n",
    "A post by Kathleen E. for the MIT Admissions Blogs\n",
    "\n",
    "More about dormspam-the-game here: https://dormspam-the-game.mit.edu/"
   ]
  },
  {
   "cell_type": "markdown",
   "metadata": {},
   "source": [
    "### Imports"
   ]
  },
  {
   "cell_type": "code",
   "execution_count": 1,
   "metadata": {},
   "outputs": [],
   "source": [
    "import matplotlib.pyplot as plt\n",
    "import numpy as np\n",
    "import pandas as pd"
   ]
  },
  {
   "cell_type": "markdown",
   "metadata": {},
   "source": [
    "### Data"
   ]
  },
  {
   "cell_type": "markdown",
   "metadata": {},
   "source": [
    "Photo of map from https://whereis.mit.edu (saved to disk):"
   ]
  },
  {
   "cell_type": "code",
   "execution_count": 2,
   "metadata": {},
   "outputs": [],
   "source": [
    "im = plt.imread(\"map.png\")"
   ]
  },
  {
   "cell_type": "markdown",
   "metadata": {},
   "source": [
    "Hand-identified coordinates of each location on map:"
   ]
  },
  {
   "cell_type": "code",
   "execution_count": 3,
   "metadata": {},
   "outputs": [],
   "source": [
    "locations = {\"Atlas Center\": [653, 110],\n",
    "            \"Big Dome\": [555, 165],\n",
    "            \"Borderline Tunnel\": [625, 127],\n",
    "            \"Briggs Field\": [375, 260],\n",
    "            \"Edgerton Center\": [577, 172],\n",
    "            \"Green Building\": [617, 146],\n",
    "            \"Hayden Library\": [619, 181],\n",
    "            \"Killian Court\": [565, 190],\n",
    "            \"Kresge Auditorium\": [485, 215],\n",
    "            \"Little Dome\": [528, 182],\n",
    "            \"Lobby 7\": [528, 182],\n",
    "            \"Lobby 10\": [557, 170],\n",
    "            \"MIT Media Lab\": [660, 135],\n",
    "            \"MIT Medical\": [680, 124],\n",
    "            \"Saté Grill Food Truck\": [610, 115],\n",
    "            \"Stata Lobby\": [589, 107],\n",
    "            \"Stud 5\": [485, 190],\n",
    "            \"Verdes\": [495, 185],\n",
    "            \"Walker 3rd\": [641, 176],\n",
    "            \"Z Center\": [468, 198]}"
   ]
  },
  {
   "cell_type": "markdown",
   "metadata": {},
   "source": [
    "Import Game 1 data:"
   ]
  },
  {
   "cell_type": "code",
   "execution_count": 4,
   "metadata": {},
   "outputs": [
    {
     "data": {
      "text/html": [
       "<div>\n",
       "<style scoped>\n",
       "    .dataframe tbody tr th:only-of-type {\n",
       "        vertical-align: middle;\n",
       "    }\n",
       "\n",
       "    .dataframe tbody tr th {\n",
       "        vertical-align: top;\n",
       "    }\n",
       "\n",
       "    .dataframe thead th {\n",
       "        text-align: right;\n",
       "    }\n",
       "</style>\n",
       "<table border=\"1\" class=\"dataframe\">\n",
       "  <thead>\n",
       "    <tr style=\"text-align: right;\">\n",
       "      <th></th>\n",
       "      <th>Rank</th>\n",
       "      <th>Username</th>\n",
       "      <th>Score</th>\n",
       "      <th>Hide Place</th>\n",
       "      <th>Seek Place</th>\n",
       "      <th>Tiebreaker</th>\n",
       "    </tr>\n",
       "  </thead>\n",
       "  <tbody>\n",
       "    <tr>\n",
       "      <th>0</th>\n",
       "      <td>1</td>\n",
       "      <td>shahul</td>\n",
       "      <td>40.006</td>\n",
       "      <td>Stata Lobby</td>\n",
       "      <td>Atlas Center</td>\n",
       "      <td>250</td>\n",
       "    </tr>\n",
       "    <tr>\n",
       "      <th>1</th>\n",
       "      <td>2</td>\n",
       "      <td>idkwhatsgoingon</td>\n",
       "      <td>40.006</td>\n",
       "      <td>Stata Lobby</td>\n",
       "      <td>Atlas Center</td>\n",
       "      <td>500</td>\n",
       "    </tr>\n",
       "  </tbody>\n",
       "</table>\n",
       "</div>"
      ],
      "text/plain": [
       "   Rank         Username   Score   Hide Place    Seek Place  Tiebreaker\n",
       "0     1           shahul  40.006  Stata Lobby  Atlas Center         250\n",
       "1     2  idkwhatsgoingon  40.006  Stata Lobby  Atlas Center         500"
      ]
     },
     "execution_count": 4,
     "metadata": {},
     "output_type": "execute_result"
    }
   ],
   "source": [
    "url = \"https://docs.google.com/spreadsheets/d/e/2PACX-1vSPBnCqsAIbyPnYmsV7rdMadlLe0lU9gT_xOYKIkmqKyuSo3V0B3PPvGOxOd_wC-hHFWpCmdkhgQBID/pub?gid=1461548545&single=true&output=csv\"\n",
    "data = pd.read_csv(url)\n",
    "data.head(2)"
   ]
  },
  {
   "cell_type": "markdown",
   "metadata": {},
   "source": [
    "Count number of hiders/seekers in each location and generate an point size for the scatter plot"
   ]
  },
  {
   "cell_type": "code",
   "execution_count": 5,
   "metadata": {},
   "outputs": [],
   "source": [
    "hide_area = data[\"Hide Place\"].value_counts()\n",
    "hide_radius = hide_area**1.3 # scale a bit to have more dramatic differentiation\n",
    "seek_area = data[\"Seek Place\"].value_counts()\n",
    "seek_radius = seek_area**1.3"
   ]
  },
  {
   "cell_type": "markdown",
   "metadata": {},
   "source": [
    "### Make a gif showing hider and seeker hotspots"
   ]
  },
  {
   "cell_type": "raw",
   "metadata": {},
   "source": [
    "Run ffmpeg commands in terminal after saving all images to make animation:\n",
    "\n",
    "ffmpeg -framerate 10 -i %02d.png output.avi\n",
    "# ffmpeg command to convert image set into avi\n",
    "\n",
    "ffmpeg -i output.avi -pix_fmt rgb24 -loop 0 out.gif\n",
    "# ffmpeg command to convert from avi to gif"
   ]
  },
  {
   "cell_type": "code",
   "execution_count": 6,
   "metadata": {},
   "outputs": [],
   "source": [
    "hide_color = \"#3A57FF\"\n",
    "seek_color = \"#FF3AB2\""
   ]
  },
  {
   "cell_type": "code",
   "execution_count": null,
   "metadata": {},
   "outputs": [],
   "source": [
    "num_rings_seq = [0, 1, 2, 3, 4, 5, 6, 7, 7, 7, 7] # repeated 7s to give gif a pause\n",
    "img_no = 0 # for file naming\n",
    "\n",
    "for num_rings in num_rings_seq: # iterate over # of rings, each iteration is a different image\n",
    "    \n",
    "    fig = plt.figure(dpi = 300) # set up figure\n",
    "    plt.imshow(im) # display image\n",
    "    \n",
    "    # artificial points for legend\n",
    "    plt.scatter(0, 0, s = 75, color = hide_color, alpha = 0.7, marker = \"s\")\n",
    "    plt.scatter(0, 0, s = 75, color = seek_color, alpha = 0.7, marker = \"s\")\n",
    "                \n",
    "    for place, loc in locations.items():    \n",
    "        x = [loc[0]] # split list into two lists\n",
    "        y = [loc[1]]\n",
    "        \n",
    "        # calculate alpha value for central point for each color\n",
    "        num_hide = hide_area[place]\n",
    "        num_seek = seek_area[place]\n",
    "        total = num_hide + num_seek\n",
    "        hide_alpha = num_hide / total\n",
    "        seek_alpha = (num_seek / total) - 0.1 # 0.1 decrease because it is overlaid\n",
    "        \n",
    "        # plot hiding points\n",
    "        size = hide_radius[place]\n",
    "        offset = [size + size*2*i for i in range(num_rings)] # calculate offset of rings\n",
    "        linewidth = size/70\n",
    "        fade = [0.8, 0.7, 0.6, 0.4, 0.2, 0.1, 0.07]\n",
    "    \n",
    "        for i in range(num_rings): # rings\n",
    "            plt.scatter(x, y, s = hide_radius[place]+offset[i], edgecolor = hide_color, c = \"\", alpha = fade[i], linewidth = linewidth)\n",
    "        \n",
    "        # central hiding point\n",
    "        plt.scatter(x, y, s = hide_radius[place], edgecolor = \"k\", c = hide_color, alpha = hide_alpha)\n",
    "        \n",
    "        # plot seeking points\n",
    "        size = seek_radius[place]\n",
    "        offset = [size + size*2*i for i in range(num_rings)]\n",
    "        linewidth = size/70\n",
    "        fade = [0.7, 0.6, 0.5, 0.3, 0.2, 0.1, 0.06]\n",
    "        \n",
    "        for i in range(num_rings): # rings\n",
    "            plt.scatter(x, y, s = seek_radius[place]+offset[i],  edgecolor = seek_color, c = \"\", alpha = fade[i], linewidth = linewidth)\n",
    "        \n",
    "        # central seeking point\n",
    "        plt.scatter(x, y, s = hide_radius[place], edgecolor = \"k\", c = seek_color, alpha = seek_alpha)\n",
    "        \n",
    "    plt.axis(\"off\") # remove axes\n",
    "    plt.xlim(250,750) # crop map\n",
    "    plt.ylim(370,65)\n",
    "    plt.title(\"Game 1: Hide and Seek\", fontsize = 12)\n",
    "    plt.legend([\"Hide\", \"Seek\"], loc = \"lower right\", fontsize = 8) # create legend\n",
    "    plt.tight_layout() # reduce whitespace\n",
    "    plt.savefig(\"./game1/map_gif/\"+str(img_no).zfill(2)+\".png\")\n",
    "    \n",
    "    img_no += 1 # increment im_no for file naming\n",
    "\n",
    "    plt.close(fig) # close to prevent memory issues\n",
    "    "
   ]
  },
  {
   "cell_type": "markdown",
   "metadata": {},
   "source": [
    "### Animate movement of individuals"
   ]
  },
  {
   "cell_type": "code",
   "execution_count": 7,
   "metadata": {},
   "outputs": [],
   "source": [
    "# radius of where points are allowed to sit for each location\n",
    "location_spread = {\"Atlas Center\": 6,\n",
    "            \"Big Dome\": 5,\n",
    "            \"Borderline Tunnel\": 8,\n",
    "            \"Briggs Field\": 12,\n",
    "            \"Edgerton Center\": 5,\n",
    "            \"Green Building\": 5,\n",
    "            \"Hayden Library\": 7,\n",
    "            \"Killian Court\": 7,\n",
    "            \"Kresge Auditorium\": 8,\n",
    "            \"Little Dome\": 5,\n",
    "            \"Lobby 7\": 10,\n",
    "            \"Lobby 10\": 6,\n",
    "            \"MIT Media Lab\": 6,\n",
    "            \"MIT Medical\": 6,\n",
    "            \"Saté Grill Food Truck\": 6,\n",
    "            \"Stata Lobby\": 7,\n",
    "            \"Stud 5\": 5,\n",
    "            \"Verdes\": 4,\n",
    "            \"Walker 3rd\": 8,\n",
    "            \"Z Center\": 8}\n"
   ]
  },
  {
   "cell_type": "code",
   "execution_count": 8,
   "metadata": {},
   "outputs": [],
   "source": [
    "def spread_points(center, max_radius, num_points, raw = False):\n",
    "    \"\"\"\n",
    "    Function to jitter points randomly about a center\n",
    "    \n",
    "    center is a list of [x, y], typically the value from the locations dictionary\n",
    "    \n",
    "    max_radius is an int for the maximum radius a point can be jittered from the center, typically the value from the location_spread dictionary\n",
    "    \n",
    "    num_points is an int for the number of points that should be generated\n",
    "    \n",
    "    raw is a boolean (default False) that determines if a list of coordinates is returned or just two raw ints (in the case where num_points == 1)\n",
    "    \"\"\"\n",
    "    x_val = center[0]\n",
    "    y_val = center[1]\n",
    "    \n",
    "    x_data = []\n",
    "    y_data = []\n",
    "    for i in range(num_points):\n",
    "        theta = np.random.uniform(0, 2*np.pi) # select random angle\n",
    "        radius = np.random.uniform(0, max_radius) # select random radius within correct range\n",
    "        \n",
    "        x_prime = x_val + (radius * np.cos(theta))\n",
    "        y_prime = y_val + (radius * np.sin(theta))\n",
    "        \n",
    "        x_data.append(x_prime)\n",
    "        y_data.append(y_prime)\n",
    "    \n",
    "    if raw: # just get singular ints\n",
    "        return x_data[0], y_data[0]\n",
    "    # return lists\n",
    "    return x_data, y_data"
   ]
  },
  {
   "cell_type": "code",
   "execution_count": 9,
   "metadata": {},
   "outputs": [],
   "source": [
    "# generate full paths for every individual\\\n",
    "paths = []\n",
    "for i in range(len(data)):\n",
    "    hiding_place = data[\"Hide Place\"][i] # string name\n",
    "    seeking_place = data[\"Seek Place\"][i]\n",
    "    \n",
    "    hiding_loc = locations[hiding_place] # coord loc\n",
    "    seeking_loc = locations[seeking_place]\n",
    "    \n",
    "    hx, hy = spread_points(hiding_loc, location_spread[hiding_place], 1, raw = True) # jitter across region\n",
    "    sx, sy = spread_points(seeking_loc, location_spread[seeking_place], 1, raw = True)\n",
    "    \n",
    "    xdir = np.sign(sx - hx) # pos if seek > hide, else neg\n",
    "    ydir = np.sign(sy - hy)\n",
    "    \n",
    "    path_length = 40\n",
    "    \n",
    "    x_step = xdir * np.abs(sx - hx)/path_length # calculate the size of a step if it needs 10 steps    \n",
    "    x_path = np.arange(hx, sx+x_step, x_step) # add step so the last point is included in the array\n",
    "    \n",
    "    y_step = ydir * np.abs(sy - hy)/path_length\n",
    "    y_path = np.arange(hy, sy+y_step, y_step)\n",
    "    \n",
    "    # even the lengths of the paths if needed\n",
    "    if len(x_path) > len(y_path):\n",
    "        y_path = np.append(y_path, [y_path[-1] + y_step/10])\n",
    "    elif len(y_path) > len(x_path):\n",
    "        x_path = np.append(x_path, [x_path[-1] + x_step/10])\n",
    "    \n",
    "    # introduce some randomness\n",
    "    x_jitter = np.asarray([0] + list(np.random.uniform(0, 6, len(x_path)-2)) + [0])\n",
    "    y_jitter = np.asarray([0] + list(np.random.uniform(0, 4, len(y_path)-2)) + [0])\n",
    "    \n",
    "    paths.append([x_path+x_jitter, y_path+y_jitter])"
   ]
  },
  {
   "cell_type": "code",
   "execution_count": 12,
   "metadata": {},
   "outputs": [
    {
     "data": {
      "image/png": "[encoded data removed]",
      "text/plain": [
       "<Figure size 144x72 with 1 Axes>"
      ]
     },
     "metadata": {
      "needs_background": "light"
     },
     "output_type": "display_data"
    }
   ],
   "source": [
    "# create color gradient\n",
    "import matplotlib as mpl\n",
    "\n",
    "def colorFader(c1,c2,mix=0): #fade (linear interpolate) from color c1 (at mix=0) to c2 (mix=1)\n",
    "    c1=np.array(mpl.colors.to_rgb(c1))\n",
    "    c2=np.array(mpl.colors.to_rgb(c2))\n",
    "    return mpl.colors.to_hex((1-mix)*c1 + mix*c2)\n",
    "\n",
    "c1=hide_color\n",
    "c2=seek_color\n",
    "n=40 # number of colors\n",
    "\n",
    "# display gradient\n",
    "fig, ax = plt.subplots(figsize=(2, 1))\n",
    "for x in range(n+1):\n",
    "    ax.axvline(x, color=colorFader(c1,c2,x/n), linewidth=4) \n",
    "plt.show()"
   ]
  },
  {
   "cell_type": "code",
   "execution_count": null,
   "metadata": {
    "scrolled": false
   },
   "outputs": [],
   "source": [
    "im_no = 0 \n",
    "path_lengths = [i for i in range(46)]\n",
    "final_iter = 0 # for reducing trailing points once final destination is reached\n",
    "\n",
    "for spot in path_lengths:\n",
    "    \n",
    "    fig = plt.figure(dpi = 270) # set up figure every time\n",
    "    plt.imshow(im) # display image\n",
    "    \n",
    "    # legend plot\n",
    "    plt.scatter(0, 0, edgecolor = \"k\", c = colorFader(c1,c2,0/n), alpha = 0.7, s = 30, linewidth = 0.5)\n",
    "    plt.scatter(0, 0, edgecolor = \"k\", c = colorFader(c1,c2,38/n), alpha = 0.7, s = 30, linewidth = 0.5)\n",
    "    \n",
    "    for path in paths:\n",
    "        x_path, y_path = path # separate components\n",
    "        \n",
    "        ind = min(spot, 39) # for > 39, reduce to 39\n",
    "        \n",
    "        # main spot\n",
    "        plt.scatter(x_path[ind], y_path[ind], edgecolor = \"k\", c = colorFader(c1,c2,ind/n), alpha = 0.5, s = 10, linewidth = 0.5)\n",
    "        \n",
    "        for i in range(4-final_iter):\n",
    "            if ind-i >= 0:\n",
    "                try:\n",
    "                    plt.scatter(x_path[ind-i], y_path[ind-i], c = colorFader(c1,c2,ind/n), alpha = 0.3 - 0.05*i, s = 10 - i*2, linewidth = 0.5)\n",
    "                except:\n",
    "                    break\n",
    "\n",
    "    plt.axis(\"off\") # crop map and remove axis\n",
    "    plt.xlim(250,750)\n",
    "    plt.ylim(370,65)\n",
    "    \n",
    "    plt.legend([\"Hiding Spots\", \"Seeking Spots\"], loc= \"lower right\", fontsize = 8)\n",
    "    \n",
    "    plt.title(\"Game 1: Hide and Seek\", fontsize = 12)\n",
    "    plt.tight_layout() # reduce whitespace\n",
    "    plt.savefig(\"./game1/movement_map/\" + str(im_no).zfill(2) + \".png\")\n",
    "    im_no += 1\n",
    "    \n",
    "    # save extra copies of the start and end to create a \"pause\" effect in the gif\n",
    "    if spot == 0:\n",
    "        for i in range(30):\n",
    "            plt.savefig(\"./game1/movement_map/\" + str(im_no).zfill(2) + \".png\")\n",
    "            im_no += 1\n",
    "    elif spot >= 39: \n",
    "        final_iter += 1 # remove trailing points by incrementing this var\n",
    "    \n",
    "    if spot == 45:\n",
    "        for i in range(30):\n",
    "            plt.savefig(\"./game1/movement_map/\" + str(im_no).zfill(2) + \".png\")\n",
    "            im_no += 1\n",
    "    \n",
    "    plt.close()\n"
   ]
  },
  {
   "cell_type": "markdown",
   "metadata": {},
   "source": [
    "### Analysis"
   ]
  },
  {
   "cell_type": "markdown",
   "metadata": {},
   "source": [
    "#### Possible Combinations"
   ]
  },
  {
   "cell_type": "code",
   "execution_count": 13,
   "metadata": {},
   "outputs": [
    {
     "data": {
      "text/plain": [
       "400"
      ]
     },
     "execution_count": 13,
     "metadata": {},
     "output_type": "execute_result"
    }
   ],
   "source": [
    "len(locations) * len(locations)\n",
    "# calculate total number of combos achieved vs number possible"
   ]
  },
  {
   "cell_type": "code",
   "execution_count": 16,
   "metadata": {},
   "outputs": [],
   "source": [
    "pairs = {}\n",
    "\n",
    "for i in range(len(data)):\n",
    "    pair = (data[\"Hide Place\"][i] , data[\"Seek Place\"][i])\n",
    "    \n",
    "    if pair in pairs:\n",
    "        pairs[pair] += 1\n",
    "    else:\n",
    "        pairs[pair] = 1"
   ]
  },
  {
   "cell_type": "code",
   "execution_count": 17,
   "metadata": {},
   "outputs": [
    {
     "data": {
      "text/plain": [
       "186"
      ]
     },
     "execution_count": 17,
     "metadata": {},
     "output_type": "execute_result"
    }
   ],
   "source": [
    "len(pairs)"
   ]
  },
  {
   "cell_type": "markdown",
   "metadata": {},
   "source": [
    "186 out of 400 possible pairs were chosen"
   ]
  },
  {
   "cell_type": "markdown",
   "metadata": {},
   "source": [
    "#### Top choice"
   ]
  },
  {
   "cell_type": "code",
   "execution_count": 18,
   "metadata": {},
   "outputs": [
    {
     "name": "stdout",
     "output_type": "stream",
     "text": [
      "(('Edgerton Center', 'Borderline Tunnel'), 9)\n"
     ]
    }
   ],
   "source": [
    "sorted_pair_list = sorted(pairs.items(), key = lambda x : x[1], reverse = True)\n",
    "print(sorted_pair_list[0])"
   ]
  },
  {
   "cell_type": "markdown",
   "metadata": {},
   "source": [
    "#### Number of repeats in combo selection"
   ]
  },
  {
   "cell_type": "code",
   "execution_count": 19,
   "metadata": {},
   "outputs": [
    {
     "data": {
      "text/plain": [
       "88"
      ]
     },
     "execution_count": 19,
     "metadata": {},
     "output_type": "execute_result"
    }
   ],
   "source": [
    "repeats = [item for item in sorted_pair_list if item[1] > 1]\n",
    "len(repeats)"
   ]
  },
  {
   "cell_type": "markdown",
   "metadata": {},
   "source": [
    "#### Tiebreaker and score stats"
   ]
  },
  {
   "cell_type": "code",
   "execution_count": 20,
   "metadata": {},
   "outputs": [
    {
     "name": "stdout",
     "output_type": "stream",
     "text": [
      "341.0\n"
     ]
    }
   ],
   "source": [
    "# median of tiebreaker estimate is the same as the actual number of players\n",
    "print(data[\"Tiebreaker\"].median())\n",
    "assert (data[\"Tiebreaker\"].median() == len(data))"
   ]
  },
  {
   "cell_type": "code",
   "execution_count": 21,
   "metadata": {},
   "outputs": [
    {
     "data": {
      "text/plain": [
       "522.0615835777126"
      ]
     },
     "execution_count": 21,
     "metadata": {},
     "output_type": "execute_result"
    }
   ],
   "source": [
    "data[\"Tiebreaker\"].mean()"
   ]
  },
  {
   "cell_type": "code",
   "execution_count": 22,
   "metadata": {},
   "outputs": [
    {
     "data": {
      "text/plain": [
       "-1.9880000000000002"
      ]
     },
     "execution_count": 22,
     "metadata": {},
     "output_type": "execute_result"
    }
   ],
   "source": [
    "data[\"Score\"].median()"
   ]
  }
 ],
 "metadata": {
  "kernelspec": {
   "display_name": "Python 3",
   "language": "python",
   "name": "python3"
  },
  "language_info": {
   "codemirror_mode": {
    "name": "ipython",
    "version": 3
   },
   "file_extension": ".py",
   "mimetype": "text/x-python",
   "name": "python",
   "nbconvert_exporter": "python",
   "pygments_lexer": "ipython3",
   "version": "3.7.6"
  }
 },
 "nbformat": 4,
 "nbformat_minor": 4
}
